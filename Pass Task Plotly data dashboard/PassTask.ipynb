{
 "cells": [
  {
   "cell_type": "code",
   "execution_count": 83,
   "metadata": {},
   "outputs": [],
   "source": [
    "from dash import Dash, html, dash_table, dcc, callback, Output, Input, State\n",
    "import pandas as pd\n",
    "import plotly.express as px\n",
    "import plotly.graph_objects as go"
   ]
  },
  {
   "cell_type": "code",
   "execution_count": 11,
   "metadata": {},
   "outputs": [
    {
     "data": {
      "text/html": [
       "<div>\n",
       "<style scoped>\n",
       "    .dataframe tbody tr th:only-of-type {\n",
       "        vertical-align: middle;\n",
       "    }\n",
       "\n",
       "    .dataframe tbody tr th {\n",
       "        vertical-align: top;\n",
       "    }\n",
       "\n",
       "    .dataframe thead th {\n",
       "        text-align: right;\n",
       "    }\n",
       "</style>\n",
       "<table border=\"1\" class=\"dataframe\">\n",
       "  <thead>\n",
       "    <tr style=\"text-align: right;\">\n",
       "      <th></th>\n",
       "      <th>Timestamp</th>\n",
       "      <th>x</th>\n",
       "      <th>y</th>\n",
       "      <th>z</th>\n",
       "    </tr>\n",
       "  </thead>\n",
       "  <tbody>\n",
       "    <tr>\n",
       "      <th>0</th>\n",
       "      <td>20240812172100</td>\n",
       "      <td>0.002197</td>\n",
       "      <td>-0.015137</td>\n",
       "      <td>1.023682</td>\n",
       "    </tr>\n",
       "    <tr>\n",
       "      <th>1</th>\n",
       "      <td>20240812172103</td>\n",
       "      <td>0.001709</td>\n",
       "      <td>-0.016968</td>\n",
       "      <td>1.022949</td>\n",
       "    </tr>\n",
       "    <tr>\n",
       "      <th>2</th>\n",
       "      <td>20240812172107</td>\n",
       "      <td>0.001953</td>\n",
       "      <td>-0.017090</td>\n",
       "      <td>1.023071</td>\n",
       "    </tr>\n",
       "    <tr>\n",
       "      <th>3</th>\n",
       "      <td>20240812172112</td>\n",
       "      <td>-0.003662</td>\n",
       "      <td>-0.018799</td>\n",
       "      <td>1.022949</td>\n",
       "    </tr>\n",
       "    <tr>\n",
       "      <th>4</th>\n",
       "      <td>20240812172117</td>\n",
       "      <td>0.001953</td>\n",
       "      <td>-0.016724</td>\n",
       "      <td>1.023560</td>\n",
       "    </tr>\n",
       "  </tbody>\n",
       "</table>\n",
       "</div>"
      ],
      "text/plain": [
       "        Timestamp         x         y         z\n",
       "0  20240812172100  0.002197 -0.015137  1.023682\n",
       "1  20240812172103  0.001709 -0.016968  1.022949\n",
       "2  20240812172107  0.001953 -0.017090  1.023071\n",
       "3  20240812172112 -0.003662 -0.018799  1.022949\n",
       "4  20240812172117  0.001953 -0.016724  1.023560"
      ]
     },
     "metadata": {},
     "output_type": "display_data"
    },
    {
     "name": "stdout",
     "output_type": "stream",
     "text": [
      "<class 'pandas.core.frame.DataFrame'>\n",
      "RangeIndex: 1020 entries, 0 to 1019\n",
      "Data columns (total 4 columns):\n",
      " #   Column     Non-Null Count  Dtype  \n",
      "---  ------     --------------  -----  \n",
      " 0   Timestamp  1020 non-null   int64  \n",
      " 1   x          1020 non-null   float64\n",
      " 2   y          1020 non-null   float64\n",
      " 3   z          1020 non-null   float64\n",
      "dtypes: float64(3), int64(1)\n",
      "memory usage: 32.0 KB\n"
     ]
    },
    {
     "data": {
      "text/plain": [
       "None"
      ]
     },
     "metadata": {},
     "output_type": "display_data"
    }
   ],
   "source": [
    "df1 = pd.read_csv(\"data.csv\", header=None, names=['Timestamp', 'x', 'y', 'z'])\n",
    "display(df1.head())\n",
    "display(df1.info())"
   ]
  },
  {
   "cell_type": "code",
   "execution_count": 12,
   "metadata": {},
   "outputs": [
    {
     "data": {
      "text/html": [
       "<div>\n",
       "<style scoped>\n",
       "    .dataframe tbody tr th:only-of-type {\n",
       "        vertical-align: middle;\n",
       "    }\n",
       "\n",
       "    .dataframe tbody tr th {\n",
       "        vertical-align: top;\n",
       "    }\n",
       "\n",
       "    .dataframe thead th {\n",
       "        text-align: right;\n",
       "    }\n",
       "</style>\n",
       "<table border=\"1\" class=\"dataframe\">\n",
       "  <thead>\n",
       "    <tr style=\"text-align: right;\">\n",
       "      <th></th>\n",
       "      <th>Timestamp</th>\n",
       "      <th>x</th>\n",
       "      <th>y</th>\n",
       "      <th>z</th>\n",
       "    </tr>\n",
       "  </thead>\n",
       "  <tbody>\n",
       "    <tr>\n",
       "      <th>0</th>\n",
       "      <td>2024-08-12 17:21:00</td>\n",
       "      <td>0.002197</td>\n",
       "      <td>-0.015137</td>\n",
       "      <td>1.023682</td>\n",
       "    </tr>\n",
       "    <tr>\n",
       "      <th>1</th>\n",
       "      <td>2024-08-12 17:21:03</td>\n",
       "      <td>0.001709</td>\n",
       "      <td>-0.016968</td>\n",
       "      <td>1.022949</td>\n",
       "    </tr>\n",
       "    <tr>\n",
       "      <th>2</th>\n",
       "      <td>2024-08-12 17:21:07</td>\n",
       "      <td>0.001953</td>\n",
       "      <td>-0.017090</td>\n",
       "      <td>1.023071</td>\n",
       "    </tr>\n",
       "    <tr>\n",
       "      <th>3</th>\n",
       "      <td>2024-08-12 17:21:12</td>\n",
       "      <td>-0.003662</td>\n",
       "      <td>-0.018799</td>\n",
       "      <td>1.022949</td>\n",
       "    </tr>\n",
       "    <tr>\n",
       "      <th>4</th>\n",
       "      <td>2024-08-12 17:21:17</td>\n",
       "      <td>0.001953</td>\n",
       "      <td>-0.016724</td>\n",
       "      <td>1.023560</td>\n",
       "    </tr>\n",
       "  </tbody>\n",
       "</table>\n",
       "</div>"
      ],
      "text/plain": [
       "            Timestamp         x         y         z\n",
       "0 2024-08-12 17:21:00  0.002197 -0.015137  1.023682\n",
       "1 2024-08-12 17:21:03  0.001709 -0.016968  1.022949\n",
       "2 2024-08-12 17:21:07  0.001953 -0.017090  1.023071\n",
       "3 2024-08-12 17:21:12 -0.003662 -0.018799  1.022949\n",
       "4 2024-08-12 17:21:17  0.001953 -0.016724  1.023560"
      ]
     },
     "execution_count": 12,
     "metadata": {},
     "output_type": "execute_result"
    }
   ],
   "source": [
    "# Convert `Timestamp` column to time dtype\n",
    "df1['Timestamp'] = pd.to_datetime(df1['Timestamp'], format='%Y%m%d%H%M%S')\n",
    "df1.head()"
   ]
  },
  {
   "cell_type": "code",
   "execution_count": 111,
   "metadata": {},
   "outputs": [
    {
     "name": "stdout",
     "output_type": "stream",
     "text": [
      "Dash app running on http://127.0.0.1:8050/\n"
     ]
    },
    {
     "data": {
      "application/javascript": "window.open('http://127.0.0.1:8050/')",
      "text/plain": [
       "<IPython.core.display.Javascript object>"
      ]
     },
     "metadata": {},
     "output_type": "display_data"
    }
   ],
   "source": [
    "# Initialize the app\n",
    "app = Dash()\n",
    "\n",
    "# App layout\n",
    "app.layout = html.Div([\n",
    "    html.H1(children='Gyroscope data'),\n",
    "    html.Hr(),\n",
    "    \n",
    "    # Drop down for graphs\n",
    "    html.Label(\"Select Graph Type:\"),\n",
    "    dcc.Dropdown(\n",
    "        id='graph-type',\n",
    "        options=[\n",
    "            {'label': 'Scatter Plot', 'value': 'scatter'},\n",
    "            {'label': 'Line Chart', 'value': 'line'},\n",
    "            {'label': 'Distribution Plot', 'value': 'distribution'},\n",
    "        ],\n",
    "        value = 'scatter'\n",
    "    ),\n",
    "    \n",
    "    # Data Table\n",
    "    dash_table.DataTable(data=df1.to_dict('records'), page_size=6),\n",
    "    \n",
    "    # Drop down for rotation selection\n",
    "    dcc.Dropdown(id='rotation-type', \n",
    "                 options=[ {'label': 'x', 'value': 'x'}, \n",
    "                          {'label': 'y', 'value': 'y'}, \n",
    "                          {'label': 'z', 'value': 'z'} ], \n",
    "                 value=['x', 'y', 'z'], multi=True),\n",
    "    \n",
    "    # Input for the number of samples\n",
    "    html.Label(\"Number of Samples: \"),\n",
    "    dcc.Input(id='num-samples', type='number', value=1020, min=100, step=20),\n",
    "    \n",
    "    # Container for the graph and summary table\n",
    "    html.Div([\n",
    "        dcc.Graph(figure={}, id='graph', style={'display': 'inline-block', 'width': '49%'}),\n",
    "        dcc.Graph(id='data-summary', style={'display': 'inline-block', 'width': '49%', 'vertical-align': 'top'}),\n",
    "    ], style={'display': 'flex', 'flex-wrap': 'wrap'})\n",
    "])\n",
    "\n",
    "@callback(\n",
    "    Output(\"graph\", \"figure\"), \n",
    "    Output('data-summary', 'figure'),\n",
    "    Input(\"rotation-type\", \"value\"),\n",
    "    Input('graph-type', 'value'),\n",
    "    Input('num-samples', 'value'),\n",
    ")\n",
    "def update(rotation, graph_type, num_sample):\n",
    "    df2 = df1.head(num_sample)\n",
    "    \n",
    "    # Create plot based on selected graph\n",
    "    fig = {}\n",
    "    if graph_type == 'scatter':\n",
    "        fig = px.scatter(df2, x='Timestamp', y=rotation)\n",
    "    elif graph_type == 'line':\n",
    "        fig = px.line(df2, x='Timestamp', y=rotation)\n",
    "    elif graph_type == 'distribution':\n",
    "        fig = px.histogram(df2, x=rotation)\n",
    "        \n",
    "    # Data summary table\n",
    "    try:\n",
    "        df3 = df2[rotation]\n",
    "        summary = df3.describe().reset_index()\n",
    "        summary_table = go.Figure(data=[go.Table(\n",
    "            header=dict(values=list(summary.columns),\n",
    "                        fill_color='paleturquoise',\n",
    "                        align='left'),\n",
    "            cells=dict(values=[summary[col] for col in summary.columns],\n",
    "                    fill_color='lavender',\n",
    "                    align='left')\n",
    "            \n",
    "        )])\n",
    "    except Exception as e:\n",
    "        summary_table = go.Figure(data=[go.Table(\n",
    "            header=dict(values=[\"No data selected\"],\n",
    "                        fill_color='paleturquoise',\n",
    "                        align='left'),\n",
    "            cells=dict(values=[[\"Please select at least one rotation axis\"]],\n",
    "                       fill_color='lavender',\n",
    "                       align='left')\n",
    "        )])\n",
    "    \n",
    "    return fig, summary_table\n",
    "\n",
    "# Run the app\n",
    "if __name__ == '__main__':\n",
    "    app.run(debug=True, jupyter_mode=\"tab\")"
   ]
  },
  {
   "cell_type": "code",
   "execution_count": null,
   "metadata": {},
   "outputs": [],
   "source": []
  }
 ],
 "metadata": {
  "kernelspec": {
   "display_name": "Python 3",
   "language": "python",
   "name": "python3"
  },
  "language_info": {
   "codemirror_mode": {
    "name": "ipython",
    "version": 3
   },
   "file_extension": ".py",
   "mimetype": "text/x-python",
   "name": "python",
   "nbconvert_exporter": "python",
   "pygments_lexer": "ipython3",
   "version": "3.11.5"
  }
 },
 "nbformat": 4,
 "nbformat_minor": 2
}

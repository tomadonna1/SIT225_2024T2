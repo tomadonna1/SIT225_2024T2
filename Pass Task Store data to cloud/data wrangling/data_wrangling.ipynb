{
 "cells": [
  {
   "cell_type": "markdown",
   "metadata": {},
   "source": [
    "# SIT225: Data wrangling\n",
    "\n",
    "Run each cell to generate output and finally convert this notebook to PDF."
   ]
  },
  {
   "cell_type": "code",
   "execution_count": 1,
   "metadata": {},
   "outputs": [
    {
     "name": "stdout",
     "output_type": "stream",
     "text": [
      "s223128143 Hoang Long Tran\n"
     ]
    }
   ],
   "source": [
    "# Fill in student ID and name\n",
    "# \n",
    "student_id = \"s223128143\"\n",
    "student_first_last_name = \"Hoang Long Tran\"\n",
    "print(student_id, student_first_last_name)"
   ]
  },
  {
   "cell_type": "markdown",
   "metadata": {},
   "source": [
    "## Read the Data with Pandas\n",
    "\n",
    "Pandas has a dedicated function read_csv() to read CSV files.\n",
    "\n",
    "Just in case we have a large number of data, we can just show into only five rows with head function. It will show you 5 rows data automatically."
   ]
  },
  {
   "cell_type": "code",
   "execution_count": 2,
   "metadata": {},
   "outputs": [
    {
     "name": "stdout",
     "output_type": "stream",
     "text": [
      "     CustomerID   Genre  Age  Annual Income (k$)  Spending Score (1-100)\n",
      "0             1    Male   19                  15                      39\n",
      "1             2    Male   21                  15                      81\n",
      "2             3  Female   20                  16                       6\n",
      "3             4  Female   23                  16                      77\n",
      "4             5  Female   31                  17                      40\n",
      "..          ...     ...  ...                 ...                     ...\n",
      "195         196  Female   35                 120                      79\n",
      "196         197  Female   45                 126                      28\n",
      "197         198    Male   32                 126                      74\n",
      "198         199    Male   32                 137                      18\n",
      "199         200    Male   30                 137                      83\n",
      "\n",
      "[200 rows x 5 columns]\n",
      "   CustomerID   Genre  Age  Annual Income (k$)  Spending Score (1-100)\n",
      "0           1    Male   19                  15                      39\n",
      "1           2    Male   21                  15                      81\n",
      "2           3  Female   20                  16                       6\n",
      "3           4  Female   23                  16                      77\n",
      "4           5  Female   31                  17                      40\n"
     ]
    }
   ],
   "source": [
    "import pandas as pd\n",
    "\n",
    "data_file = \"shopping_data.csv\"\n",
    "csv_data = pd.read_csv(data_file)\n",
    "\n",
    "print(csv_data)\n",
    "\n",
    "# show into only five rows with head function\n",
    "print(csv_data.head())"
   ]
  },
  {
   "cell_type": "markdown",
   "metadata": {},
   "source": [
    "## Access the Column\n",
    "\n",
    "Pandas has provided function .columns to access the column of the data source."
   ]
  },
  {
   "cell_type": "code",
   "execution_count": 3,
   "metadata": {},
   "outputs": [
    {
     "name": "stdout",
     "output_type": "stream",
     "text": [
      "Index(['CustomerID', 'Genre', 'Age', 'Annual Income (k$)',\n",
      "       'Spending Score (1-100)'],\n",
      "      dtype='object')\n",
      "Age:\n",
      "0      19\n",
      "1      21\n",
      "2      20\n",
      "3      23\n",
      "4      31\n",
      "       ..\n",
      "195    35\n",
      "196    45\n",
      "197    32\n",
      "198    32\n",
      "199    30\n",
      "Name: Age, Length: 200, dtype: int64\n"
     ]
    }
   ],
   "source": [
    "print(csv_data.columns)\n",
    "\n",
    "# if we want to access just one column, for example \"Age\"\n",
    "print(\"Age:\")\n",
    "print(csv_data[\"Age\"])"
   ]
  },
  {
   "cell_type": "markdown",
   "metadata": {},
   "source": [
    "## Access the Row\n",
    "\n",
    "In addition to accessing data through columns, using pandas can also access using rows. In contrast to access through columns, the function to display data from a row is the .iloc[i] function where [i] indicates the order of the rows to be displayed where the index starts from 0."
   ]
  },
  {
   "cell_type": "code",
   "execution_count": 4,
   "metadata": {},
   "outputs": [
    {
     "name": "stdout",
     "output_type": "stream",
     "text": [
      "CustomerID                     6\n",
      "Genre                     Female\n",
      "Age                           22\n",
      "Annual Income (k$)            17\n",
      "Spending Score (1-100)        76\n",
      "Name: 5, dtype: object\n",
      "\n",
      "21\n"
     ]
    }
   ],
   "source": [
    "# we want to know what line 5 contains\n",
    "\n",
    "print(csv_data.iloc[5])\n",
    "\n",
    "print()\n",
    "\n",
    "# We can combine both of those function to show row and column we want. \n",
    "# For the example, we want to show the value in column \"Age\" at the first row \n",
    "# (remember that the row starts at 0)\n",
    "# \n",
    "print(csv_data[\"Age\"].iloc[1])\n"
   ]
  },
  {
   "cell_type": "markdown",
   "metadata": {},
   "source": [
    "## Show Data Based on Range\n",
    "\n",
    "After displaying a data set, what if you want to display data from rows 5 to 20 of a dataset? To anticipate this, pandas can also display data within a certain range, both ranges for rows only, only columns, and ranges for rows and columns"
   ]
  },
  {
   "cell_type": "code",
   "execution_count": 5,
   "metadata": {},
   "outputs": [
    {
     "name": "stdout",
     "output_type": "stream",
     "text": [
      "Shows data to 5th to less than 10th in a row:\n",
      "   CustomerID   Genre  Age  Annual Income (k$)  Spending Score (1-100)\n",
      "5           6  Female   22                  17                      76\n",
      "6           7  Female   35                  18                       6\n",
      "7           8  Female   23                  18                      94\n",
      "8           9    Male   64                  19                       3\n",
      "9          10  Female   30                  19                      72\n"
     ]
    }
   ],
   "source": [
    "print(\"Shows data to 5th to less than 10th in a row:\")\n",
    "print(csv_data.iloc[5:10])"
   ]
  },
  {
   "cell_type": "markdown",
   "metadata": {},
   "source": [
    "## Using Numpy to Show the Statistic Information\n",
    "\n",
    "The describe() function allows to quickly find statistical information from a dataset. Those information such as mean, median, modus, max min, even standard deviation. Don't forget to install Numpy before using describe function."
   ]
  },
  {
   "cell_type": "code",
   "execution_count": 6,
   "metadata": {},
   "outputs": [
    {
     "name": "stdout",
     "output_type": "stream",
     "text": [
      "        CustomerID   Genre         Age  Annual Income (k$)  \\\n",
      "count   200.000000     200  200.000000          200.000000   \n",
      "unique         NaN       2         NaN                 NaN   \n",
      "top            NaN  Female         NaN                 NaN   \n",
      "freq           NaN     112         NaN                 NaN   \n",
      "mean    100.500000     NaN   38.850000           60.560000   \n",
      "std      57.879185     NaN   13.969007           26.264721   \n",
      "min       1.000000     NaN   18.000000           15.000000   \n",
      "25%      50.750000     NaN   28.750000           41.500000   \n",
      "50%     100.500000     NaN   36.000000           61.500000   \n",
      "75%     150.250000     NaN   49.000000           78.000000   \n",
      "max     200.000000     NaN   70.000000          137.000000   \n",
      "\n",
      "        Spending Score (1-100)  \n",
      "count               200.000000  \n",
      "unique                     NaN  \n",
      "top                        NaN  \n",
      "freq                       NaN  \n",
      "mean                 50.200000  \n",
      "std                  25.823522  \n",
      "min                   1.000000  \n",
      "25%                  34.750000  \n",
      "50%                  50.000000  \n",
      "75%                  73.000000  \n",
      "max                  99.000000  \n"
     ]
    }
   ],
   "source": [
    "print(csv_data.describe(include=\"all\"))"
   ]
  },
  {
   "cell_type": "markdown",
   "metadata": {},
   "source": [
    "## Handling Missing Value\n",
    "\n"
   ]
  },
  {
   "cell_type": "code",
   "execution_count": 7,
   "metadata": {},
   "outputs": [
    {
     "name": "stdout",
     "output_type": "stream",
     "text": [
      "False\n",
      "\n"
     ]
    }
   ],
   "source": [
    "# For the first step, we will figure out if there is missing value.\n",
    "print(csv_data.isnull().values.any())\n",
    "print()"
   ]
  },
  {
   "cell_type": "code",
   "execution_count": 8,
   "metadata": {},
   "outputs": [
    {
     "name": "stdout",
     "output_type": "stream",
     "text": [
      "   CustomerID   Genre   Age  Annual Income (k$)  Spending Score (1-100)\n",
      "0           1    Male  19.0                15.0                    39.0\n",
      "1           2    Male   NaN                15.0                    81.0\n",
      "2           3  Female  20.0                 NaN                     6.0\n",
      "3           4  Female  23.0                16.0                    77.0\n",
      "4           5  Female  31.0                17.0                     NaN\n",
      "\n",
      "Missing?  True\n"
     ]
    }
   ],
   "source": [
    "# We will use another data source with missing values to practice this part.\n",
    "data_missing = pd.read_csv(\"shopping_data_missingvalue.csv\")\n",
    "print(data_missing.head())\n",
    "\n",
    "print()\n",
    "\n",
    "print(\"Missing? \", data_missing.isnull().values.any())\n",
    "\n"
   ]
  },
  {
   "cell_type": "code",
   "execution_count": null,
   "metadata": {},
   "outputs": [],
   "source": []
  },
  {
   "cell_type": "markdown",
   "metadata": {},
   "source": [
    "### Ways to deal with missing values. \n",
    "\n",
    "Follow the tutorial (https://deepnote.com/app/rickyharyanto14-3390/Data-Wrangling-w-Python-e5d1a23e-33cf-416d-ad27-4c3f7f467442). It includes -\n",
    "1. Delete data\n",
    "    * deleting rows\n",
    "    * pairwise deletion\n",
    "    * delete column \n",
    "2. imputation\n",
    "    * time series problem\n",
    "        - Data without trend with seasonality (mean, median, mode, random)\n",
    "        - Data with trend and without seasonality (linear interpolation)\n",
    "    * general problem\n",
    "        - Data categorical (Make NA as multiple imputation)\n",
    "        - Data numerical or continuous (mean, median, mode, multiple imputation and linear regression)"
   ]
  },
  {
   "cell_type": "markdown",
   "metadata": {},
   "source": [
    "### Filling with Mean Values\n",
    "\n",
    "The mean is used for data that has a few outliers/noise/anomalies in the distribution of the data and its contents. This value will later fill in the empty value of the dataset that has a missing value case. To fill in an empty value use the fillna() function"
   ]
  },
  {
   "cell_type": "code",
   "execution_count": 9,
   "metadata": {},
   "outputs": [
    {
     "data": {
      "text/plain": [
       "CustomerID                  int64\n",
       "Genre                      object\n",
       "Age                       float64\n",
       "Annual Income (k$)        float64\n",
       "Spending Score (1-100)    float64\n",
       "dtype: object"
      ]
     },
     "execution_count": 9,
     "metadata": {},
     "output_type": "execute_result"
    }
   ],
   "source": [
    "data_missing.dtypes"
   ]
  },
  {
   "cell_type": "code",
   "execution_count": 10,
   "metadata": {},
   "outputs": [
    {
     "data": {
      "text/plain": [
       "'\\n\\nQuestion: This code will generate error. Can you explain why and how it can be solved? \\nMove on to the next cell to find one way it can be solved.\\n\\nAnswer: Because `Genre` column has object dtype, we need to decode it first, or just drop it.\\n\\n'"
      ]
     },
     "execution_count": 10,
     "metadata": {},
     "output_type": "execute_result"
    }
   ],
   "source": [
    "# print(data_missing.mean())\n",
    "\n",
    "\"\"\"\n",
    "\n",
    "Question: This code will generate error. Can you explain why and how it can be solved? \n",
    "Move on to the next cell to find one way it can be solved.\n",
    "\n",
    "Answer: Because `Genre` column has object dtype, we need to decode it first, or just drop it.\n",
    "\n",
    "\"\"\" "
   ]
  },
  {
   "cell_type": "code",
   "execution_count": 11,
   "metadata": {},
   "outputs": [
    {
     "name": "stdout",
     "output_type": "stream",
     "text": [
      "   CustomerID   Age  Annual Income (k$)  Spending Score (1-100)\n",
      "0           1  19.0                15.0                    39.0\n",
      "1           2   NaN                15.0                    81.0\n",
      "2           3  20.0                 NaN                     6.0\n",
      "3           4  23.0                16.0                    77.0\n",
      "4           5  31.0                17.0                     NaN\n"
     ]
    }
   ],
   "source": [
    "# Genre column contains string values and numerial operation mean fails. \n",
    "# Lets drop Genre column since for numerial calculation.\n",
    "# \n",
    "data_missing_wo_genre = data_missing.drop(columns=['Genre'])\n",
    "print(data_missing_wo_genre.head())"
   ]
  },
  {
   "cell_type": "code",
   "execution_count": 12,
   "metadata": {},
   "outputs": [
    {
     "name": "stdout",
     "output_type": "stream",
     "text": [
      "CustomerID                100.500000\n",
      "Age                        38.939698\n",
      "Annual Income (k$)         61.005051\n",
      "Spending Score (1-100)     50.489899\n",
      "dtype: float64\n"
     ]
    }
   ],
   "source": [
    "print(data_missing_wo_genre.mean())"
   ]
  },
  {
   "cell_type": "code",
   "execution_count": 13,
   "metadata": {},
   "outputs": [
    {
     "name": "stdout",
     "output_type": "stream",
     "text": [
      "Dataset with empty values! :\n",
      "   CustomerID   Age  Annual Income (k$)  Spending Score (1-100)\n",
      "0           1  19.0                15.0                    39.0\n",
      "1           2   NaN                15.0                    81.0\n",
      "2           3  20.0                 NaN                     6.0\n",
      "3           4  23.0                16.0                    77.0\n",
      "4           5  31.0                17.0                     NaN\n",
      "5           6  22.0                 NaN                    76.0\n",
      "6           7  35.0                18.0                     6.0\n",
      "7           8  23.0                18.0                    94.0\n",
      "8           9  64.0                19.0                     NaN\n",
      "9          10  30.0                19.0                    72.0\n",
      "Dataset that has been processed Handling Missing Values with Mean :\n",
      "   CustomerID        Age  Annual Income (k$)  Spending Score (1-100)\n",
      "0           1  19.000000           15.000000               39.000000\n",
      "1           2  38.939698           15.000000               81.000000\n",
      "2           3  20.000000           61.005051                6.000000\n",
      "3           4  23.000000           16.000000               77.000000\n",
      "4           5  31.000000           17.000000               50.489899\n",
      "5           6  22.000000           61.005051               76.000000\n",
      "6           7  35.000000           18.000000                6.000000\n",
      "7           8  23.000000           18.000000               94.000000\n",
      "8           9  64.000000           19.000000               50.489899\n",
      "9          10  30.000000           19.000000               72.000000\n"
     ]
    }
   ],
   "source": [
    "print(\"Dataset with empty values! :\")\n",
    "print(data_missing_wo_genre.head(10))\n",
    "\n",
    "data_filling=data_missing_wo_genre.fillna(data_missing_wo_genre.mean())\n",
    "print(\"Dataset that has been processed Handling Missing Values with Mean :\")\n",
    "print(data_filling.head(10))\n",
    "\n",
    "# Observe the missing value imputation in corresponding rows.\n",
    "# "
   ]
  },
  {
   "cell_type": "markdown",
   "metadata": {},
   "source": [
    "### Filling with Median\n",
    "\n",
    "The median is used when the data presented has a high outlier. The median was chosen because it is the middle value, which means it is not the result of calculations involving outlier data. In some cases, outlier data is considered disturbing and often considered noisy because it can affect class distribution and interfere with clustering analysis."
   ]
  },
  {
   "cell_type": "code",
   "execution_count": 14,
   "metadata": {},
   "outputs": [
    {
     "name": "stdout",
     "output_type": "stream",
     "text": [
      "CustomerID                100.5\n",
      "Age                        36.0\n",
      "Annual Income (k$)         62.0\n",
      "Spending Score (1-100)     50.0\n",
      "dtype: float64\n",
      "Dataset with empty values! :\n",
      "   CustomerID   Age  Annual Income (k$)  Spending Score (1-100)\n",
      "0           1  19.0                15.0                    39.0\n",
      "1           2   NaN                15.0                    81.0\n",
      "2           3  20.0                 NaN                     6.0\n",
      "3           4  23.0                16.0                    77.0\n",
      "4           5  31.0                17.0                     NaN\n",
      "5           6  22.0                 NaN                    76.0\n",
      "6           7  35.0                18.0                     6.0\n",
      "7           8  23.0                18.0                    94.0\n",
      "8           9  64.0                19.0                     NaN\n",
      "9          10  30.0                19.0                    72.0\n",
      "Dataset that has been processed Handling Missing Values with Median :\n",
      "   CustomerID   Age  Annual Income (k$)  Spending Score (1-100)\n",
      "0           1  19.0                15.0                    39.0\n",
      "1           2  36.0                15.0                    81.0\n",
      "2           3  20.0                62.0                     6.0\n",
      "3           4  23.0                16.0                    77.0\n",
      "4           5  31.0                17.0                    50.0\n",
      "5           6  22.0                62.0                    76.0\n",
      "6           7  35.0                18.0                     6.0\n",
      "7           8  23.0                18.0                    94.0\n",
      "8           9  64.0                19.0                    50.0\n",
      "9          10  30.0                19.0                    72.0\n"
     ]
    }
   ],
   "source": [
    "print(data_missing_wo_genre.median())\n",
    "print(\"Dataset with empty values! :\")\n",
    "print(data_missing_wo_genre.head(10))\n",
    "\n",
    "data_filling2=data_missing_wo_genre.fillna(data_missing_wo_genre.median())\n",
    "print(\"Dataset that has been processed Handling Missing Values with Median :\")\n",
    "print(data_filling2.head(10))\n",
    "\n",
    "# Observe the missing value imputation in corresponding rows.\n",
    "# "
   ]
  },
  {
   "cell_type": "code",
   "execution_count": null,
   "metadata": {},
   "outputs": [],
   "source": []
  }
 ],
 "metadata": {
  "kernelspec": {
   "display_name": "Python 3 (ipykernel)",
   "language": "python",
   "name": "python3"
  },
  "language_info": {
   "codemirror_mode": {
    "name": "ipython",
    "version": 3
   },
   "file_extension": ".py",
   "mimetype": "text/x-python",
   "name": "python",
   "nbconvert_exporter": "python",
   "pygments_lexer": "ipython3",
   "version": "3.11.5"
  }
 },
 "nbformat": 4,
 "nbformat_minor": 4
}
